{
 "cells": [
  {
   "cell_type": "markdown",
   "metadata": {},
   "source": [
    "###In this notebook, I will be using a support vector machine to predict if somebody is a victim of cybercrime or not"
   ]
  },
  {
   "cell_type": "markdown",
   "metadata": {},
   "source": [
    "Importing all libraries"
   ]
  },
  {
   "cell_type": "code",
   "execution_count": null,
   "metadata": {},
   "outputs": [],
   "source": [
    "import pandas as pd\n",
    "import numpy as np\n",
    "import matplotlib.pyplot as plt\n",
    "from sklearn import svm\n",
    "from sklearn.model_selection import train_test_split\n",
    "from sklearn import metrics"
   ]
  },
  {
   "cell_type": "markdown",
   "metadata": {},
   "source": [
    "Reading the sample datasets"
   ]
  },
  {
   "cell_type": "code",
   "execution_count": null,
   "metadata": {},
   "outputs": [],
   "source": [
    "df_cyb = pd.read_csv(\"../NOTEBOOKS TO REVIEW/Sample datasets for ML/cyber_victims.csv\", sep=';')\n",
    "df_tra = pd.read_csv(\"../NOTEBOOKS TO REVIEW/Sample datasets for ML/trad_victims.csv\", sep=';')\n",
    "df_non = pd.read_csv(\"../NOTEBOOKS TO REVIEW/Sample datasets for ML/non_victims.csv\", sep=';')"
   ]
  },
  {
   "cell_type": "raw",
   "metadata": {},
   "source": [
    "Merging the datasets"
   ]
  },
  {
   "cell_type": "code",
   "execution_count": null,
   "metadata": {},
   "outputs": [],
   "source": [
    "frames = [df_cyb, df_non]\n",
    "df_merged = pd.concat(frames, sort=False)"
   ]
  },
  {
   "cell_type": "markdown",
   "metadata": {},
   "source": [
    "Creating age categories, since we only need categorial variables"
   ]
  },
  {
   "cell_type": "code",
   "execution_count": null,
   "metadata": {},
   "outputs": [],
   "source": [
    "df_merged['Age'] = pd.cut(x=df_merged['age'], bins=[0, 20, 39, 59, 79, 999])"
   ]
  },
  {
   "cell_type": "code",
   "execution_count": null,
   "metadata": {},
   "outputs": [],
   "source": [
    "df_merged = df_merged.drop(['id', 'age', 'birth_date', 'age_5_cath', 'age1', 'hh_std_4_years', 'comp_hh_income', 'comp_hh_income_4_years'], axis=1)"
   ]
  },
  {
   "cell_type": "markdown",
   "metadata": {},
   "source": [
    "Creating binary variables, since the entire dataset consists of categorical variables"
   ]
  },
  {
   "cell_type": "markdown",
   "metadata": {},
   "source": [
    "df_clean = pd.get_dummies(df_merged)"
   ]
  },
  {
   "cell_type": "markdown",
   "metadata": {},
   "source": [
    "Making the labels more readable"
   ]
  },
  {
   "cell_type": "code",
   "execution_count": null,
   "metadata": {},
   "outputs": [],
   "source": [
    "df_clean['Has Kids'] = df_clean['hh_type_Gehuwd paar met kinderen'] + df_clean['hh_type_Gehuwd paar zonder kinderen'] + df_clean['hh_type_Eenouderhuishouden']\n",
    "df_clean['Has No Kids'] = df_clean['hh_type_Niet-gehuwd paar zonder kinderen'] + df_clean['hh_type_Niet-gehuwd paar zonder kinderen'] + df_clean['hh_type_Eenouderhuishouden']\n",
    "df_clean['Other Household'] = df_clean['hh_type_Institutioneel huishouden'] + df_clean['hh_type_Onbekend'] + df_clean['hh_type_Overig huishouden']\n",
    "\n",
    "df_clean = df_clean[df_clean.columns.drop(list(df_clean.filter(regex = 'hh_type')))]\n"
   ]
  },
  {
   "cell_type": "code",
   "execution_count": null,
   "metadata": {},
   "outputs": [],
   "source": [
    "data = df_clean.drop(['is_trad_victim'], axis=1)\n",
    "data = data.drop(['city_popu_density_Onbekend'], axis=1)\n",
    "data = data[['Age_(59, 79]', 'Age_(79, 999]', 'city_popu_density_Matig stedelijk (OAD 1000 tot 1500)',\n",
    "            'city_popu_density_Weinig stedelijk (OAD 500 tot 1000)', 'city_popu_density_Sterk stedelijk (OAD 1500 tot 2500)',\n",
    "            'city_popu_density_Zeer sterk stedelijk (OAD 2500 of meer)',\n",
    "           'city_popu_density_Niet stedelijk (OAD minder dan 500)',\n",
    "            'is_cyber_victim']]"
   ]
  },
  {
   "cell_type": "code",
   "execution_count": null,
   "metadata": {},
   "outputs": [],
   "source": [
    "list(data.columns)"
   ]
  },
  {
   "cell_type": "markdown",
   "metadata": {},
   "source": [
    "Creating test and train sets, that I will use to train the model"
   ]
  },
  {
   "cell_type": "code",
   "execution_count": null,
   "metadata": {},
   "outputs": [],
   "source": [
    "labels = np.array(data.pop('is_cyber_victim'))\n",
    "\n",
    "train, test, train_labels, test_labels = train_test_split(data, labels, stratify = labels, test_size = 0.3, random_state = 21)"
   ]
  },
  {
   "cell_type": "markdown",
   "metadata": {},
   "source": [
    "Training the model"
   ]
  },
  {
   "cell_type": "code",
   "execution_count": null,
   "metadata": {},
   "outputs": [],
   "source": [
    "clf = svm.SVC(kernel='linear')\n",
    "clf.fit(train, train_labels)\n",
    "y_pred = clf.predict(test)"
   ]
  },
  {
   "cell_type": "markdown",
   "metadata": {},
   "source": [
    "Evaluating how good the model performs on the test set"
   ]
  },
  {
   "cell_type": "code",
   "execution_count": null,
   "metadata": {},
   "outputs": [],
   "source": [
    "print(\"Accuracy:\",metrics.accuracy_score(test_labels,y_pred))"
   ]
  },
  {
   "cell_type": "code",
   "execution_count": null,
   "metadata": {},
   "outputs": [],
   "source": [
    "print(\"Recall:\",metrics.recall_score(test_labels,y_pred))"
   ]
  },
  {
   "cell_type": "code",
   "execution_count": null,
   "metadata": {},
   "outputs": [],
   "source": [
    "print(\"Precision:\",metrics.precision_score(test_labels,y_pred))"
   ]
  },
  {
   "cell_type": "markdown",
   "metadata": {},
   "source": [
    "Showing the features with the highest calculated coefficients, that the model deemed most useful to predict a cybercrime victim"
   ]
  },
  {
   "cell_type": "code",
   "execution_count": null,
   "metadata": {},
   "outputs": [],
   "source": [
    "pd.Series(abs(clf.coef_[0]), index = data.columns).nlargest(10).plot(kind='barh')"
   ]
  }
 ],
 "metadata": {
  "kernelspec": {
   "display_name": "Python 3",
   "language": "python",
   "name": "python3"
  },
  "language_info": {
   "codemirror_mode": {
    "name": "ipython",
    "version": 3
   },
   "file_extension": ".py",
   "mimetype": "text/x-python",
   "name": "python",
   "nbconvert_exporter": "python",
   "pygments_lexer": "ipython3",
   "version": "3.6.8"
  }
 },
 "nbformat": 4,
 "nbformat_minor": 2
}
